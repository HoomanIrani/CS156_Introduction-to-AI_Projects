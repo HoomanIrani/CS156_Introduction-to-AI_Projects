{
 "cells": [
  {
   "cell_type": "markdown",
   "metadata": {},
   "source": [
    "# <b>CS156 (Introduction to AI), Fall 2021</b>\n",
    "# <u><b>Homework 7 submission</b></u>"
   ]
  },
  {
   "cell_type": "markdown",
   "metadata": {},
   "source": [
    "### Roster Name: Houman Irani\n",
    "### Preferred Name (if different): Chosen Name\n",
    "### Student ID: 014716182\n",
    "### Email address: houman.irani@sjsu.edu\n",
    "Any special notes or anything you would like to communicate to me about this homework submission goes in here."
   ]
  },
  {
   "cell_type": "markdown",
   "metadata": {},
   "source": [
    "##  <u>References and sources </u>"
   ]
  },
  {
   "cell_type": "markdown",
   "metadata": {},
   "source": [
    "List all your references and sources here.\n",
    "This includes all sites/discussion boards/blogs/posts/etc. where you grabbed some code examples."
   ]
  },
  {
   "cell_type": "markdown",
   "metadata": {},
   "source": [
    "##  <u>Solution</u>"
   ]
  },
  {
   "cell_type": "markdown",
   "metadata": {},
   "source": [
    "#### Load libraries and set random number generator seed"
   ]
  },
  {
   "cell_type": "code",
   "execution_count": 1,
   "metadata": {},
   "outputs": [],
   "source": [
    "import numpy as np\n",
    "import pandas as pd\n",
    "from sklearn import datasets\n",
    "import matplotlib.pyplot as plt\n",
    "from PIL import Image\n",
    "import seaborn as sns\n",
    "from sklearn.model_selection import train_test_split\n",
    "from sklearn.neural_network import MLPClassifier\n",
    "from sklearn.metrics import plot_confusion_matrix\n",
    "from sklearn.exceptions import ConvergenceWarning\n",
    "from sklearn.datasets  import load_digits\n",
    "from sklearn.model_selection import cross_val_score"
   ]
  },
  {
   "cell_type": "code",
   "execution_count": 2,
   "metadata": {},
   "outputs": [],
   "source": [
    "np.random.seed(42)"
   ]
  },
  {
   "cell_type": "markdown",
   "metadata": {},
   "source": [
    "#### Code the solution"
   ]
  },
  {
   "cell_type": "code",
   "execution_count": 3,
   "metadata": {},
   "outputs": [],
   "source": [
    "mnist = load_digits()"
   ]
  },
  {
   "cell_type": "code",
   "execution_count": 4,
   "metadata": {},
   "outputs": [],
   "source": [
    "n_samples = len(mnist.images)\n",
    "X = mnist.images.reshape((n_samples, -1))\n",
    "Y = mnist.target\n",
    "\n",
    "X = X.astype(\"float32\") / 255"
   ]
  },
  {
   "cell_type": "code",
   "execution_count": 5,
   "metadata": {},
   "outputs": [
    {
     "data": {
      "text/plain": [
       "((1437, 64), (1437,), (360, 64), (360,))"
      ]
     },
     "execution_count": 5,
     "metadata": {},
     "output_type": "execute_result"
    }
   ],
   "source": [
    "X_train, X_test, Y_train, Y_test = train_test_split(X, Y, test_size=0.2, random_state=0, stratify=Y)\n",
    "X_train.shape, Y_train.shape, X_test.shape, Y_test.shape"
   ]
  },
  {
   "cell_type": "code",
   "execution_count": 6,
   "metadata": {},
   "outputs": [],
   "source": [
    "model1 = MLPClassifier(random_state=1, max_iter=2000).fit(X_train, Y_train)\n",
    "score1 = model1.score(X_test, Y_test)\n",
    "cvscore1 = cross_val_score(model1, X_train, Y_train, cv=5)"
   ]
  },
  {
   "cell_type": "code",
   "execution_count": 7,
   "metadata": {},
   "outputs": [],
   "source": [
    "model2 = MLPClassifier(hidden_layer_sizes=(400,150,50), max_iter=2000, activation = 'relu', random_state=1).fit(X_train, Y_train)\n",
    "score2 = model2.score(X_test, Y_test)\n",
    "cvscore2 = cross_val_score(model2, X_train, Y_train, cv=5)"
   ]
  },
  {
   "cell_type": "code",
   "execution_count": 8,
   "metadata": {},
   "outputs": [],
   "source": [
    "model3 = MLPClassifier(hidden_layer_sizes=(400,150,50), max_iter=2000,activation = 'logistic',random_state=1).fit(X_train, Y_train)\n",
    "score3 = model3.score(X_test, Y_test)\n",
    "cvscore3 = cross_val_score(model3, X_train, Y_train, cv=5)"
   ]
  },
  {
   "cell_type": "code",
   "execution_count": 9,
   "metadata": {},
   "outputs": [],
   "source": [
    "model4 = MLPClassifier(hidden_layer_sizes=(64,32,8), max_iter=2000,activation = 'relu',random_state=1).fit(X_train, Y_train)\n",
    "score4 = model4.score(X_test, Y_test)\n",
    "cvscore4 = cross_val_score(model4, X_train, Y_train, cv=5)"
   ]
  },
  {
   "cell_type": "code",
   "execution_count": 10,
   "metadata": {},
   "outputs": [],
   "source": [
    "model5 = MLPClassifier(hidden_layer_sizes=(32,16), max_iter=2000,activation = 'relu',random_state=1).fit(X_train, Y_train)\n",
    "score5 = model5.score(X_test, Y_test)\n",
    "cvscore5 = cross_val_score(model5, X_train, Y_train, cv=5)"
   ]
  },
  {
   "cell_type": "code",
   "execution_count": 11,
   "metadata": {},
   "outputs": [],
   "source": [
    "model6 = MLPClassifier(hidden_layer_sizes=(120,64,16), max_iter=2000,activation = 'relu',random_state=1).fit(X_train, Y_train)\n",
    "score6 = model6.score(X_test, Y_test)\n",
    "cvscore6 = cross_val_score(model6, X_train, Y_train, cv=5)"
   ]
  },
  {
   "cell_type": "code",
   "execution_count": 12,
   "metadata": {},
   "outputs": [],
   "source": [
    "model7 = MLPClassifier(hidden_layer_sizes=(320,120,32), max_iter=2000,activation = 'relu',random_state=1).fit(X_train, Y_train)\n",
    "score7 = model7.score(X_test, Y_test)\n",
    "cvscore7 = cross_val_score(model7, X_train, Y_train, cv=5)"
   ]
  },
  {
   "cell_type": "code",
   "execution_count": 13,
   "metadata": {},
   "outputs": [
    {
     "data": {
      "image/png": "[encoded data removed]",
      "text/plain": [
       "<Figure size 432x288 with 1 Axes>"
      ]
     },
     "metadata": {
      "needs_background": "light"
     },
     "output_type": "display_data"
    }
   ],
   "source": [
    "plt = sns.violinplot(gridsize=300, inner=\"quartile\", data=[cvscore1, cvscore2, cvscore3, cvscore4, cvscore5, cvscore6, cvscore7])\n",
    "labels = plt.set_xticklabels(['Model1', 'Model2', 'Model3', 'Model4', 'Model5', 'Model6', 'Model7'])\n",
    "plt.plot([score1, score2, score3, score4, score5, score6, score7],'s',marker='X',markersize=12,color = 'w')\n",
    "sns.set(rc={'figure.figsize':(20, 10)})"
   ]
  },
  {
   "cell_type": "code",
   "execution_count": null,
   "metadata": {},
   "outputs": [],
   "source": []
  }
 ],
 "metadata": {
  "kernelspec": {
   "display_name": "Python 3",
   "language": "python",
   "name": "python3"
  },
  "language_info": {
   "codemirror_mode": {
    "name": "ipython",
    "version": 3
   },
   "file_extension": ".py",
   "mimetype": "text/x-python",
   "name": "python",
   "nbconvert_exporter": "python",
   "pygments_lexer": "ipython3",
   "version": "3.8.8"
  }
 },
 "nbformat": 4,
 "nbformat_minor": 4
}
